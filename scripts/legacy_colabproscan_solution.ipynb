{
  "nbformat": 4,
  "nbformat_minor": 0,
  "metadata": {
    "colab": {
      "provenance": [],
      "authorship_tag": "ABX9TyN4+kmLVt7HqMK918LQWeFs",
      "include_colab_link": true
    },
    "kernelspec": {
      "name": "python3",
      "display_name": "Python 3"
    },
    "language_info": {
      "name": "python"
    }
  },
  "cells": [
    {
      "cell_type": "markdown",
      "metadata": {
        "id": "view-in-github",
        "colab_type": "text"
      },
      "source": [
        "<a href=\"https://colab.research.google.com/github/dthorburn/rb_automation/blob/main/scripts/legacy_colabproscan_solution.ipynb\" target=\"_parent\"><img src=\"https://colab.research.google.com/assets/colab-badge.svg\" alt=\"Open In Colab\"/></a>"
      ]
    },
    {
      "cell_type": "markdown",
      "metadata": {
        "id": "G4yBrceuFbf3"
      },
      "source": [
        "#ColabProScan: InterproScan with Google Cloud Storage folders\n",
        "\n",
        "### ***NB. This method is deprecated. Please use the nextflow implementation with fusion mounting the database bucket.***\n",
        "\n",
        "\n",
        "## Instructions\n",
        "\n",
        "**Quick Start**\n",
        "1.  Upload your AA sequences in fasta format to GCP (NB. files must be appended with `.fasta` to be identified as fasta here).\n",
        "2. Define GCP project ID using (`project_name`), then path to the GCP cloud storage bucket and sub-directory containing the fasta files using (`bucket_name`) define an outdir (`folder_name`).\n",
        "3. Check the parameters are correctly set. Defaults are fine for most use cases.\n",
        "4. Launch GCP GPU VM with Colab backend container using this [link]( https://console.cloud.google.com/marketplace/product/colab-marketplace-image-public/colab) (ensure you are logged into our GCP account). An NVIDIA T4 with 4 vCPU and 13Gb-26Gb of memory should be sufficient for most use cases.\n",
        "5. Select `Connect to a custom GCE VM` under connection options in the top right and follow instructions.\n",
        "6. Once connected, press `Runtime` -> `Run all` (Or select each block and run individually).\n",
        "7. Follow the link provided to retrieve temporary access code to GCP during execution of the first block and paste it in the proivded space.\n",
        "\n",
        "**Output**\n",
        "1. A gff file with all interproscan annotations included."
      ]
    },
    {
      "cell_type": "code",
      "execution_count": null,
      "metadata": {
        "id": "9jnJE9Td9m5X",
        "cellView": "form"
      },
      "outputs": [],
      "source": [
        "#@title Install InterPro Scan - This will take hours!\n",
        "%%shell\n",
        "#perl -version\n",
        "#python3 --version\n",
        "#java -version\n",
        "\n",
        "mkdir my_interproscan\n",
        "#mv interproscan-5.62-94.0-64-bit.tar.gz my_interproscan\n",
        "#mv interproscan-5.62-94.0-64-bit.tar.gz.md5 my_interproscan\n",
        "cd my_interproscan\n",
        "wget https://ftp.ebi.ac.uk/pub/software/unix/iprscan/5/5.62-94.0/interproscan-5.62-94.0-64-bit.tar.gz\n",
        "wget https://ftp.ebi.ac.uk/pub/software/unix/iprscan/5/5.62-94.0/interproscan-5.62-94.0-64-bit.tar.gz.md5\n",
        "\n",
        "# Recommended checksum to confirm the download was successful:\n",
        "md5sum -c interproscan-5.62-94.0-64-bit.tar.gz.md5\n",
        "tar -pxvzf interproscan-5.62-94.0-*-bit.tar.gz\n",
        "cd /content/my_interproscan/interproscan-5.62-94.0/\n",
        "python3 setup.py -f interproscan.properties"
      ]
    },
    {
      "cell_type": "code",
      "source": [
        "#@title Setup and Authenticate with Google Cloud Storage\n",
        "!pip install --upgrade google-cloud-storage\n",
        "!gcloud auth application-default login\n",
        "from google.cloud import storage\n"
      ],
      "metadata": {
        "id": "ud1OMl5wrz4q",
        "cellView": "form"
      },
      "execution_count": null,
      "outputs": []
    },
    {
      "cell_type": "code",
      "source": [
        "#@title Fetch inputs from Google Cloud Storage\n",
        "\n",
        "#@markdown ## Set parameters to get input files run and wait for summary.\n",
        "import os\n",
        "from pathlib import Path\n",
        "import shutil\n",
        "import re\n",
        "\n",
        "project_name = '' #@param {type:\"string\"}\n",
        "bucket_name = '' #@param {type:\"string\"}\n",
        "folder_name = '' #@param {type:\"string\"}\n",
        "\n",
        "print(\"Ensuring download folder free\")\n",
        "input_local_dir = Path.home().resolve() / \"input\"\n",
        "output_dir = Path.home().resolve() / \"output\"\n",
        "os.mkdir(input_local_dir)\n",
        "os.mkdir(output_dir)\n",
        "\n",
        "print(\"Fetching data...\")\n",
        "storage_client = storage.Client(project_name)\n",
        "bucket = storage_client.get_bucket(bucket_name)\n",
        "blobs = bucket.list_blobs(prefix=folder_name)  # Get list of files\n",
        "for blob in blobs:\n",
        "  filename = blob.name.split(\"/\")[-1]\n",
        "  if bool(re.search(\"fasta\", str(filename))):\n",
        "    blob.download_to_filename(input_local_dir.resolve() / filename)\n",
        "#for blob in blobs:\n",
        "#  blob.download_to_filename(input_local_dir.resolve() / blob.name.split(\"/\")[-1])\n",
        "\n",
        "print(\"Done, input directory state:\")\n",
        "print(os.listdir(input_local_dir))"
      ],
      "metadata": {
        "id": "cVOoUPSp7TAn",
        "cellView": "form"
      },
      "execution_count": null,
      "outputs": []
    },
    {
      "cell_type": "code",
      "source": [
        "#@title Run InterProScan\n",
        "%%shell\n",
        "export PATH=\"/content/my_interproscan/interproscan-5.62-94.0/:$PATH\"\n",
        "fasta=`ls -1 /root/input`\n",
        "## Just in case there are * characters\n",
        "sed -i \"s/\\*//g\" \"/root/input/${fasta}\"\n",
        "outdir=\"/root/output\"\n",
        "\n",
        "if [ `grep \"\\*\" \"/root/input/${fasta}\" | wc -l` == 0 ];\n",
        "then\n",
        "  echo $fasta\n",
        "  interproscan.sh -i /root/input/${fasta} -f gff3 -t \"p\" -o ${outdir}/interpro_result.gff -cpu 4 -appl Pfam,Gene3D,SUPERFAMILY,PRINTS,SMART,CDD,ProSiteProfiles -dp\n",
        "else\n",
        "  echo \"* characters found in fasta. Remove before continuing\"\n",
        "fi"
      ],
      "metadata": {
        "id": "xgAiqkydl491",
        "cellView": "form"
      },
      "execution_count": null,
      "outputs": []
    },
    {
      "cell_type": "code",
      "source": [
        "#@title Upload Results to GCP\n",
        "    print('Uploading results...')\n",
        "    for filename in os.listdir(output_dir):\n",
        "        if os.path.isfile(output_dir.resolve()/ filename):\n",
        "            blob = bucket.blob( folder_name + \"/\" + filename)\n",
        "            blob.upload_from_filename(output_dir.resolve()/ filename)\n"
      ],
      "metadata": {
        "id": "Vt3tHg5am045",
        "cellView": "form"
      },
      "execution_count": null,
      "outputs": []
    }
  ]
}